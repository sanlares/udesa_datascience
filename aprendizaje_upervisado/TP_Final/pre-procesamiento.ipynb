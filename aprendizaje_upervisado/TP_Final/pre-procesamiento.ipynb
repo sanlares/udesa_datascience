{
 "cells": [
  {
   "cell_type": "code",
   "execution_count": 18,
   "metadata": {},
   "outputs": [],
   "source": [
    "from sklearn.feature_extraction.text import CountVectorizer\n",
    "from sklearn.pipeline import Pipeline\n",
    "from datasets import load_dataset\n",
    "import nltk\n",
    "from nltk import word_tokenize          \n",
    "from nltk.stem import WordNetLemmatizer \n",
    "from sklearn.preprocessing import FunctionTransformer"
   ]
  },
  {
   "cell_type": "markdown",
   "metadata": {},
   "source": [
    "### Cargamos datos"
   ]
  },
  {
   "cell_type": "code",
   "execution_count": 2,
   "metadata": {},
   "outputs": [
    {
     "data": {
      "text/html": [
       "<style>#sk-container-id-1 {color: black;}#sk-container-id-1 pre{padding: 0;}#sk-container-id-1 div.sk-toggleable {background-color: white;}#sk-container-id-1 label.sk-toggleable__label {cursor: pointer;display: block;width: 100%;margin-bottom: 0;padding: 0.3em;box-sizing: border-box;text-align: center;}#sk-container-id-1 label.sk-toggleable__label-arrow:before {content: \"▸\";float: left;margin-right: 0.25em;color: #696969;}#sk-container-id-1 label.sk-toggleable__label-arrow:hover:before {color: black;}#sk-container-id-1 div.sk-estimator:hover label.sk-toggleable__label-arrow:before {color: black;}#sk-container-id-1 div.sk-toggleable__content {max-height: 0;max-width: 0;overflow: hidden;text-align: left;background-color: #f0f8ff;}#sk-container-id-1 div.sk-toggleable__content pre {margin: 0.2em;color: black;border-radius: 0.25em;background-color: #f0f8ff;}#sk-container-id-1 input.sk-toggleable__control:checked~div.sk-toggleable__content {max-height: 200px;max-width: 100%;overflow: auto;}#sk-container-id-1 input.sk-toggleable__control:checked~label.sk-toggleable__label-arrow:before {content: \"▾\";}#sk-container-id-1 div.sk-estimator input.sk-toggleable__control:checked~label.sk-toggleable__label {background-color: #d4ebff;}#sk-container-id-1 div.sk-label input.sk-toggleable__control:checked~label.sk-toggleable__label {background-color: #d4ebff;}#sk-container-id-1 input.sk-hidden--visually {border: 0;clip: rect(1px 1px 1px 1px);clip: rect(1px, 1px, 1px, 1px);height: 1px;margin: -1px;overflow: hidden;padding: 0;position: absolute;width: 1px;}#sk-container-id-1 div.sk-estimator {font-family: monospace;background-color: #f0f8ff;border: 1px dotted black;border-radius: 0.25em;box-sizing: border-box;margin-bottom: 0.5em;}#sk-container-id-1 div.sk-estimator:hover {background-color: #d4ebff;}#sk-container-id-1 div.sk-parallel-item::after {content: \"\";width: 100%;border-bottom: 1px solid gray;flex-grow: 1;}#sk-container-id-1 div.sk-label:hover label.sk-toggleable__label {background-color: #d4ebff;}#sk-container-id-1 div.sk-serial::before {content: \"\";position: absolute;border-left: 1px solid gray;box-sizing: border-box;top: 0;bottom: 0;left: 50%;z-index: 0;}#sk-container-id-1 div.sk-serial {display: flex;flex-direction: column;align-items: center;background-color: white;padding-right: 0.2em;padding-left: 0.2em;position: relative;}#sk-container-id-1 div.sk-item {position: relative;z-index: 1;}#sk-container-id-1 div.sk-parallel {display: flex;align-items: stretch;justify-content: center;background-color: white;position: relative;}#sk-container-id-1 div.sk-item::before, #sk-container-id-1 div.sk-parallel-item::before {content: \"\";position: absolute;border-left: 1px solid gray;box-sizing: border-box;top: 0;bottom: 0;left: 50%;z-index: -1;}#sk-container-id-1 div.sk-parallel-item {display: flex;flex-direction: column;z-index: 1;position: relative;background-color: white;}#sk-container-id-1 div.sk-parallel-item:first-child::after {align-self: flex-end;width: 50%;}#sk-container-id-1 div.sk-parallel-item:last-child::after {align-self: flex-start;width: 50%;}#sk-container-id-1 div.sk-parallel-item:only-child::after {width: 0;}#sk-container-id-1 div.sk-dashed-wrapped {border: 1px dashed gray;margin: 0 0.4em 0.5em 0.4em;box-sizing: border-box;padding-bottom: 0.4em;background-color: white;}#sk-container-id-1 div.sk-label label {font-family: monospace;font-weight: bold;display: inline-block;line-height: 1.2em;}#sk-container-id-1 div.sk-label-container {text-align: center;}#sk-container-id-1 div.sk-container {/* jupyter's `normalize.less` sets `[hidden] { display: none; }` but bootstrap.min.css set `[hidden] { display: none !important; }` so we also need the `!important` here to be able to override the default hidden behavior on the sphinx rendered scikit-learn.org. See: https://github.com/scikit-learn/scikit-learn/issues/21755 */display: inline-block !important;position: relative;}#sk-container-id-1 div.sk-text-repr-fallback {display: none;}</style><div id=\"sk-container-id-1\" class=\"sk-top-container\"><div class=\"sk-text-repr-fallback\"><pre>CountVectorizer()</pre><b>In a Jupyter environment, please rerun this cell to show the HTML representation or trust the notebook. <br />On GitHub, the HTML representation is unable to render, please try loading this page with nbviewer.org.</b></div><div class=\"sk-container\" hidden><div class=\"sk-item\"><div class=\"sk-estimator sk-toggleable\"><input class=\"sk-toggleable__control sk-hidden--visually\" id=\"sk-estimator-id-1\" type=\"checkbox\" checked><label for=\"sk-estimator-id-1\" class=\"sk-toggleable__label sk-toggleable__label-arrow\">CountVectorizer</label><div class=\"sk-toggleable__content\"><pre>CountVectorizer()</pre></div></div></div></div></div>"
      ],
      "text/plain": [
       "CountVectorizer()"
      ]
     },
     "execution_count": 2,
     "metadata": {},
     "output_type": "execute_result"
    }
   ],
   "source": [
    "\n",
    "\n",
    "# Con esto lo bajamos de este repositorio centralizado\n",
    "ds = load_dataset(\"ag_news\")\n",
    "\n",
    "vect = CountVectorizer()\n",
    "# Si quisieramos que considere en el diccionario secuencia de un caracter (como la palabra \"y\", hay que modificar el parámetro token_pattern al instanciar CountVectorizer\n",
    "# vect = CountVectorizer(token_pattern=r'(?u)\\b\\w+\\b')\n",
    "vect.fit(ds[\"train\"][\"text\"])"
   ]
  },
  {
   "cell_type": "code",
   "execution_count": 3,
   "metadata": {},
   "outputs": [],
   "source": [
    "#matriz=vect.transform(ds[\"train\"][\"text\"]).todense()"
   ]
  },
  {
   "cell_type": "code",
   "execution_count": 4,
   "metadata": {},
   "outputs": [],
   "source": [
    "# Convertimos a pandas\n",
    "\n",
    "id2label = ds[\"train\"].features[\"label\"].names\n",
    "\n",
    "df_train = ds[\"train\"].to_pandas()\n",
    "\n",
    "df_test = ds[\"test\"].to_pandas()"
   ]
  },
  {
   "cell_type": "code",
   "execution_count": 5,
   "metadata": {},
   "outputs": [],
   "source": [
    "# Tomamos una proporción de la muestra de entrenamiento para que el entrenamiento sea más eficiente computacionalmente\n",
    "muestra_fraccion = 0.01\n",
    "df_train_muestra= df_train.sample(frac=muestra_fraccion, random_state=42)\n"
   ]
  },
  {
   "cell_type": "code",
   "execution_count": 6,
   "metadata": {},
   "outputs": [
    {
     "name": "stdout",
     "output_type": "stream",
     "text": [
      "['00' '000' '000th' '01' '02' '037' '038' '04' '05' '06' '08' '09' '10'\n",
      " '100' '100m' '100th' '101' '1010' '1040' '105' '106' '108' '10k' '10m'\n",
      " '10th' '11' '110' '114' '116' '118' '11th' '12' '123' '128mb' '12th' '13'\n",
      " '130' '130b' '133' '135' '137th' '139m' '13b' '14' '140' '14012' '141'\n",
      " '142' '146' '147']\n",
      "\n",
      "Tamaño total del vocabulario: 8560\n"
     ]
    }
   ],
   "source": [
    "\n",
    "# Obtener el vocabulario generado por el CountVectorizer\n",
    "vocabulario = vect.get_feature_names_out()\n",
    "\n",
    "# Mostrar las primeras 50 palabras del vocabulario\n",
    "print(vocabulario[:50])\n",
    "\n",
    "# Si deseas conocer el tamaño total del vocabulario\n",
    "print(\"\\nTamaño total del vocabulario:\", len(vocabulario))"
   ]
  },
  {
   "cell_type": "code",
   "execution_count": 7,
   "metadata": {},
   "outputs": [
    {
     "name": "stdout",
     "output_type": "stream",
     "text": [
      "UN Mission Sends Military Team to Investigate Fighting in Eastern &lt;b&gt;...&lt;/b&gt; Following reports of fighting between different factions of former members of the Armed Forces of the Democratic Republic of the Congo (FARDC) and weapons distribution to civilians in North Kivu province, the United Nations mission today said it sent a \n",
      "--------------------------------------------------------------------------------\n",
      "Jaguar's Coventry plant to close Jaguar's historic Brown's Lane factory in Coventry is to close, Ford has confirmed, with 400 jobs expected to be lost.\n",
      "--------------------------------------------------------------------------------\n",
      "Brown Says He May Never Get Over Athens (AP) AP - Larry Brown didn't have much time to enjoy his first NBA title. After coaching the Detroit Pistons to a surprising victory over the Los Angeles Lakers, Brown focused all his energy on getting the U.S. basketball team ready for the Olympics. Much to his dismay, the Americans came home with just a bronze medal.\n",
      "--------------------------------------------------------------------------------\n",
      "Srichaphan sets up clash with Henman in Paris Paradorn Srichaphan of Thailand beat Argentine Mariano Zabaleta 7-6 (3), 6-4 in a first round match Monday at the Paris Masters, setting up a clash with defending champion Tim Henman.\n",
      "--------------------------------------------------------------------------------\n",
      "BTG hits Amazon, Netflix and others with patent suit LONDON - BTG PLC, a London-based firm that focuses on intellectual property and technology commercialization, said Wednesday that it has filed suit against Amazon.com Inc., Barnesandnoble.com LLC and two other Internet companies for infringing on patents related to the tracking of users on the Web.\n",
      "--------------------------------------------------------------------------------\n",
      "UPDATE 1-Van der Vaart stripped of Ajax captaincy Dutch international Rafael van der Vaart was stripped of the Ajax Amsterdam captaincy on Thursday after he refused to play out of position in the Champions League game against Bayern Munich.\n",
      "--------------------------------------------------------------------------------\n",
      "Saudi Arabia cuts oil prices Oil prices eased yesterday as top world exporter Saudi Arabia slashed prices for its westbound crude sales in an effort to shift the large volumes it is offering to cool world markets.\n",
      "--------------------------------------------------------------------------------\n",
      "EU waits on Oracle-PeopleSoft (TheDeal.com) TheDeal.com - The European Commission is likely to follow opinion in the U.S. on the merger suit.\n",
      "--------------------------------------------------------------------------------\n",
      "Prison Probe Raises Questions About CIA (AP) AP - The latest Army investigation into the Abu Ghraib scandal is raising new questions about whether the CIA, operating outside military rules, contributed to the breakdown of military discipline at the prison.\n",
      "--------------------------------------------------------------------------------\n",
      "Embattled Disney head reportedly endorses successor Michael Eisner reportedly has told Walt Disney Co. directors that company President Robert Iger is his  quot;preferred choice quot; to succeed him as chief executive of the media \n",
      "--------------------------------------------------------------------------------\n"
     ]
    }
   ],
   "source": [
    "for text in df_train_muestra['text'].sample(10):\n",
    "    print(text)\n",
    "    print('-'*80)"
   ]
  },
  {
   "cell_type": "code",
   "execution_count": 13,
   "metadata": {},
   "outputs": [
    {
     "name": "stderr",
     "output_type": "stream",
     "text": [
      "[nltk_data] Downloading package wordnet to\n",
      "[nltk_data]     /Users/agustineckerdt/nltk_data...\n"
     ]
    },
    {
     "data": {
      "text/plain": [
       "True"
      ]
     },
     "execution_count": 13,
     "metadata": {},
     "output_type": "execute_result"
    }
   ],
   "source": [
    "# Para lematizar definimos una clase que luego ponemos en el parámetro tokenize de countvectorizer \n",
    "# https://scikit-learn.org/stable/modules/feature_extraction.html\n",
    "#La función de nltk que vamos a definir a continuación para lematizar, requiere descargar el conjunto de datos punkt, que es un tokenizador preentrenado para tokenizar texto en frases\n",
    "nltk.download('wordnet')\n"
   ]
  },
  {
   "cell_type": "code",
   "execution_count": 16,
   "metadata": {},
   "outputs": [
    {
     "name": "stdout",
     "output_type": "stream",
     "text": [
      "['!' '#' '$' '&' \"'\" \"''\" \"'african\" \"'batman\" \"'better\" \"'d\"\n",
      " \"'encouraged\" \"'extreme\" \"'fear\" \"'final\" \"'fuzzy\" \"'google\" \"'important\"\n",
      " \"'in\" \"'ll\" \"'m\" \"'massive\" \"'may\" \"'park\" \"'phishing\" \"'plant\" \"'re\"\n",
      " \"'s\" \"'spam\" \"'unit\" \"'ve\" \"'war\" \"'worst\" \"'wrongdoers\" '(' ')' ',' '-'\n",
      " '--' '-2' '-as' '-ave' '-bisoft' '-fed' '-iled' '-scientists' '-source'\n",
      " '-study' '-the' '-verheugen' '.']\n"
     ]
    }
   ],
   "source": [
    "\n",
    "class LemmaTokenizer:\n",
    "     def __init__(self):\n",
    "         self.wnl = WordNetLemmatizer()\n",
    "     def __call__(self, doc):\n",
    "         return [self.wnl.lemmatize(t) for t in word_tokenize(doc)]\n"
   ]
  },
  {
   "cell_type": "code",
   "execution_count": 22,
   "metadata": {},
   "outputs": [
    {
     "name": "stdout",
     "output_type": "stream",
     "text": [
      "['a' 'abandon' 'abandoned' 'abbey' 'abc' 'abducted' 'abduction' 'able'\n",
      " 'abn' 'aboard' 'aboriginal' 'abounds' 'about' 'above' 'absence' 'abtahi'\n",
      " 'abu' 'abuse' 'abusing' 'academic' 'accelerates' 'accept' 'accepted'\n",
      " 'accepts' 'access' 'accessible' 'acclaim' 'acclaimed' 'accomplished'\n",
      " 'accord' 'according' 'account' 'accounting' 'accusation' 'accuse'\n",
      " 'accused' 'accuser' 'accuses' 'accusing' 'ace' 'aceh' 'acer' 'achieve'\n",
      " 'acquire' 'acquired' 'acquisition' 'acrobat' 'across' 'act' 'action']\n"
     ]
    },
    {
     "name": "stderr",
     "output_type": "stream",
     "text": [
      "/Library/Frameworks/Python.framework/Versions/3.11/lib/python3.11/site-packages/sklearn/feature_extraction/text.py:525: UserWarning: The parameter 'token_pattern' will not be used since 'tokenizer' is not None'\n",
      "  warnings.warn(\n"
     ]
    }
   ],
   "source": [
    "#Creamos funcion que filtre los caracteres alfabeticos\n",
    "def filtro_alfabeticos(documento):\n",
    "    return [' '.join(word for word in doc.split() if word.isalpha()) for doc in documento]\n",
    "#Convierto la función en una compatible con sklearn\n",
    "alfab_filtro = FunctionTransformer(filtro_alfabeticos, validate=False)\n",
    "\n",
    "#Generamos un pipeline con todos los pasos del pre procesamiento\n",
    "pipeline = Pipeline([\n",
    "    ('alfab_filtro', alfab_filtro),\n",
    "    ('vectorizador', CountVectorizer(tokenizer=LemmaTokenizer(), strip_accents=\"ascii\", analyzer='word'))\n",
    "])\n",
    "\n",
    "X_train = pipeline.fit_transform(df_train_muestra['text'])\n",
    "vocabulario_alfabetico = pipeline.named_steps['vectorizador'].get_feature_names_out()\n",
    "print(vocabulario_alfabetico[:50])\n"
   ]
  },
  {
   "cell_type": "code",
   "execution_count": null,
   "metadata": {},
   "outputs": [],
   "source": [
    "\n",
    "\n",
    "vect = CountVectorizer(token_pattern=r'\\b[a-zA-Z]+\\b', tokenizer=LemmaTokenizer(),strip_accents=\"ascii\",analyzer = 'word')  # Esto excluye los números y captura solo palabras alfabéticas\n",
    "# Revisamos la documentación y vimos que el parámetro lowercase=True está puedo por defecto en countvectorizer, lo cual\n",
    "# nos asegura que se convirtió todo a minúsculas\n",
    "X_train = vect.fit_transform(df_train_muestra['text'])\n",
    "# Obtener y mostrar el vocabulario\n",
    "vocabulario_alfabetico = vect.get_feature_names_out()\n",
    "\n",
    "print(vocabulario_alfabetico[:50])  # Mostramos las primeras 50 palabras del vocabulario"
   ]
  },
  {
   "cell_type": "code",
   "execution_count": null,
   "metadata": {},
   "outputs": [
    {
     "data": {
      "text/html": [
       "<style>#sk-container-id-2 {color: black;}#sk-container-id-2 pre{padding: 0;}#sk-container-id-2 div.sk-toggleable {background-color: white;}#sk-container-id-2 label.sk-toggleable__label {cursor: pointer;display: block;width: 100%;margin-bottom: 0;padding: 0.3em;box-sizing: border-box;text-align: center;}#sk-container-id-2 label.sk-toggleable__label-arrow:before {content: \"▸\";float: left;margin-right: 0.25em;color: #696969;}#sk-container-id-2 label.sk-toggleable__label-arrow:hover:before {color: black;}#sk-container-id-2 div.sk-estimator:hover label.sk-toggleable__label-arrow:before {color: black;}#sk-container-id-2 div.sk-toggleable__content {max-height: 0;max-width: 0;overflow: hidden;text-align: left;background-color: #f0f8ff;}#sk-container-id-2 div.sk-toggleable__content pre {margin: 0.2em;color: black;border-radius: 0.25em;background-color: #f0f8ff;}#sk-container-id-2 input.sk-toggleable__control:checked~div.sk-toggleable__content {max-height: 200px;max-width: 100%;overflow: auto;}#sk-container-id-2 input.sk-toggleable__control:checked~label.sk-toggleable__label-arrow:before {content: \"▾\";}#sk-container-id-2 div.sk-estimator input.sk-toggleable__control:checked~label.sk-toggleable__label {background-color: #d4ebff;}#sk-container-id-2 div.sk-label input.sk-toggleable__control:checked~label.sk-toggleable__label {background-color: #d4ebff;}#sk-container-id-2 input.sk-hidden--visually {border: 0;clip: rect(1px 1px 1px 1px);clip: rect(1px, 1px, 1px, 1px);height: 1px;margin: -1px;overflow: hidden;padding: 0;position: absolute;width: 1px;}#sk-container-id-2 div.sk-estimator {font-family: monospace;background-color: #f0f8ff;border: 1px dotted black;border-radius: 0.25em;box-sizing: border-box;margin-bottom: 0.5em;}#sk-container-id-2 div.sk-estimator:hover {background-color: #d4ebff;}#sk-container-id-2 div.sk-parallel-item::after {content: \"\";width: 100%;border-bottom: 1px solid gray;flex-grow: 1;}#sk-container-id-2 div.sk-label:hover label.sk-toggleable__label {background-color: #d4ebff;}#sk-container-id-2 div.sk-serial::before {content: \"\";position: absolute;border-left: 1px solid gray;box-sizing: border-box;top: 0;bottom: 0;left: 50%;z-index: 0;}#sk-container-id-2 div.sk-serial {display: flex;flex-direction: column;align-items: center;background-color: white;padding-right: 0.2em;padding-left: 0.2em;position: relative;}#sk-container-id-2 div.sk-item {position: relative;z-index: 1;}#sk-container-id-2 div.sk-parallel {display: flex;align-items: stretch;justify-content: center;background-color: white;position: relative;}#sk-container-id-2 div.sk-item::before, #sk-container-id-2 div.sk-parallel-item::before {content: \"\";position: absolute;border-left: 1px solid gray;box-sizing: border-box;top: 0;bottom: 0;left: 50%;z-index: -1;}#sk-container-id-2 div.sk-parallel-item {display: flex;flex-direction: column;z-index: 1;position: relative;background-color: white;}#sk-container-id-2 div.sk-parallel-item:first-child::after {align-self: flex-end;width: 50%;}#sk-container-id-2 div.sk-parallel-item:last-child::after {align-self: flex-start;width: 50%;}#sk-container-id-2 div.sk-parallel-item:only-child::after {width: 0;}#sk-container-id-2 div.sk-dashed-wrapped {border: 1px dashed gray;margin: 0 0.4em 0.5em 0.4em;box-sizing: border-box;padding-bottom: 0.4em;background-color: white;}#sk-container-id-2 div.sk-label label {font-family: monospace;font-weight: bold;display: inline-block;line-height: 1.2em;}#sk-container-id-2 div.sk-label-container {text-align: center;}#sk-container-id-2 div.sk-container {/* jupyter's `normalize.less` sets `[hidden] { display: none; }` but bootstrap.min.css set `[hidden] { display: none !important; }` so we also need the `!important` here to be able to override the default hidden behavior on the sphinx rendered scikit-learn.org. See: https://github.com/scikit-learn/scikit-learn/issues/21755 */display: inline-block !important;position: relative;}#sk-container-id-2 div.sk-text-repr-fallback {display: none;}</style><div id=\"sk-container-id-2\" class=\"sk-top-container\"><div class=\"sk-text-repr-fallback\"><pre>RandomForestClassifier()</pre><b>In a Jupyter environment, please rerun this cell to show the HTML representation or trust the notebook. <br />On GitHub, the HTML representation is unable to render, please try loading this page with nbviewer.org.</b></div><div class=\"sk-container\" hidden><div class=\"sk-item\"><div class=\"sk-estimator sk-toggleable\"><input class=\"sk-toggleable__control sk-hidden--visually\" id=\"sk-estimator-id-2\" type=\"checkbox\" checked><label for=\"sk-estimator-id-2\" class=\"sk-toggleable__label sk-toggleable__label-arrow\">RandomForestClassifier</label><div class=\"sk-toggleable__content\"><pre>RandomForestClassifier()</pre></div></div></div></div></div>"
      ],
      "text/plain": [
       "RandomForestClassifier()"
      ]
     },
     "execution_count": 9,
     "metadata": {},
     "output_type": "execute_result"
    }
   ],
   "source": [
    "# Random Forest\n",
    "from sklearn.ensemble import RandomForestClassifier\n",
    "\n",
    "rf = RandomForestClassifier()\n",
    "rf.fit(X_train, y_train)"
   ]
  }
 ],
 "metadata": {
  "kernelspec": {
   "display_name": "Python 3",
   "language": "python",
   "name": "python3"
  },
  "language_info": {
   "codemirror_mode": {
    "name": "ipython",
    "version": 3
   },
   "file_extension": ".py",
   "mimetype": "text/x-python",
   "name": "python",
   "nbconvert_exporter": "python",
   "pygments_lexer": "ipython3",
   "version": "3.11.2"
  }
 },
 "nbformat": 4,
 "nbformat_minor": 2
}
