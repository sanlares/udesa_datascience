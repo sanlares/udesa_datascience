{
 "cells": [
  {
   "cell_type": "code",
   "execution_count": null,
   "metadata": {},
   "outputs": [],
   "source": []
  },
  {
   "cell_type": "markdown",
   "metadata": {},
   "source": [
    "1. Adquisición y preparación de datos\n",
    "Descarga del conjunto de datos \"AG News\".\n",
    "Carga de los datos en un DataFrame para su análisis.\n",
    "División del conjunto de datos en entrenamiento y prueba (e.g. 80% para entrenamiento, 20% para prueba).\n",
    "2. Análisis exploratorio de datos\n",
    "Visualización de la distribución de las categorías.\n",
    "Análisis de la longitud media de las noticias.\n",
    "Visualización de algunas muestras de noticias para cada categoría.\n",
    "3. Preprocesamiento de datos\n",
    "Conversión de texto a minúsculas.\n",
    "Eliminación de caracteres especiales y números.\n",
    "Tokenización: dividir el texto en palabras.\n",
    "Eliminación de palabras comunes (stopwords).\n",
    "Representación numérica de texto: TF-IDF, CountVectorizer, etc.\n",
    "4. Elección y entrenamiento de clasificadores\n",
    "Dado que se sugieren al menos tres familias de clasificadores, propondré:\n",
    "\n",
    "Random Forests\n",
    "SVM (Support Vector Machines)\n",
    "Regresión Logística\n",
    "5. Optimización de hiperparámetros\n",
    "Uso de Grid Search con validación cruzada (K-fold cross validation) para encontrar la mejor combinación de hiperparámetros para cada clasificador.\n",
    "6. Evaluación de modelos\n",
    "Uso de métricas como precisión, recall, F1-score y exactitud para evaluar el rendimiento de los modelos en el conjunto de validación.\n",
    "Análisis de la matriz de confusión para cada modelo.\n",
    "7. Reporte de resultados en el conjunto de prueba\n",
    "Una vez seleccionado el mejor modelo (o modelos) con la mejor configuración de hiperparámetros, se evalúa en el conjunto de datos de prueba.\n",
    "8. Elaboración del informe\n",
    "Siguiendo las indicaciones dadas:\n",
    "\n",
    "Introducción\n",
    "\n",
    "Breve descripción del problema y del objetivo del trabajo.\n",
    "Descripción del dataset\n",
    "\n",
    "Información sobre \"AG News\", distribución de las categorías, longitud de las noticias, etc.\n",
    "Descripción de los clasificadores\n",
    "\n",
    "Explicación de Random Forests, SVM y Regresión Logística y la razón de su elección.\n",
    "Pre-procesamiento y features\n",
    "\n",
    "Descripción detallada de los pasos realizados en el preprocesamiento. Justificación de las decisiones tomadas.\n",
    "Optimización de hiperparámetros\n",
    "\n",
    "Descripción de cómo se hizo (Grid Search, K-fold, etc.). Mejores hiperparámetros encontrados para cada modelo.\n",
    "Reporte de resultados\n",
    "\n",
    "Presentación de las métricas de evaluación obtenidas en el conjunto de prueba.\n",
    "Conclusiones y discusión\n",
    "\n",
    "Reflexión sobre los resultados, lo aprendido, posibles mejoras y futuros pasos.\n",
    "9. Notebook en Google Colab\n",
    "Trasladar todos los pasos anteriores a un notebook de Google Colab, asegurándose de que todo se ejecute de forma fluida desde el principio hasta el final."
   ]
  },
  {
   "cell_type": "markdown",
   "metadata": {},
   "source": []
  }
 ],
 "metadata": {
  "language_info": {
   "name": "python"
  }
 },
 "nbformat": 4,
 "nbformat_minor": 2
}
