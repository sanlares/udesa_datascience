{
  "cells": [
    {
      "cell_type": "markdown",
      "metadata": {
        "id": "VFsTQ9KQrb58"
      },
      "source": [
        "# Aprendizaje Supervisado I\n",
        "# UdeSA, 2023\n",
        "## Profesores: Marcela Svarc, Juan Manuel Pérez\n",
        "### Alumno: Santiago Lares Harbin\n",
        "\n",
        "## Taller 1: Algoritmos de clasificación + evaluación\n",
        "\n",
        "\n",
        "**Fecha de entrega: 06/10/2023, 23:59 hs**\n",
        "\n",
        "Enviar individualmente a perezj@udesa.edu.ar con subject <TALLER-SUPERVISADO><APELLIDO>\n",
        "\n",
        "\n",
        "\n",
        "Este notebook contiene los ejercicios del taller 1. Los mismos deberán ser realizados usando Python. Pueden hacerlo en colab como en sus propias computadoras.\n",
        "\n"
      ]
    },
    {
      "cell_type": "code",
      "execution_count": 270,
      "metadata": {
        "id": "rk-rKVGBrdR9"
      },
      "outputs": [],
      "source": [
        "import sklearn\n",
        "from sklearn.metrics import accuracy_score\n",
        "import numpy as np\n",
        "import scipy\n",
        "from sklearn.metrics import confusion_matrix\n",
        "import seaborn as sns\n",
        "import matplotlib.pyplot as plt\n",
        "import warnings\n",
        "from sklearn.exceptions import UndefinedMetricWarning\n",
        "\n",
        "warnings.filterwarnings(\"ignore\", category=UndefinedMetricWarning)"
      ]
    },
    {
      "cell_type": "markdown",
      "metadata": {
        "id": "nbwpll_ftnPy"
      },
      "source": [
        "# 1. Métricas"
      ]
    },
    {
      "attachments": {},
      "cell_type": "markdown",
      "metadata": {
        "id": "tykrFXZYkXyc"
      },
      "source": [
        "### 1.1 Programar las siguientes métricas como funciones de python con la siguiente aridad:\n",
        "\n",
        "\n",
        "```python\n",
        "def metrica(y_true,y_pred):\n",
        "  ...\n",
        "  return score\n",
        "```\n",
        "\n",
        "\n",
        "\n",
        "1.   accuracy\n",
        "2.   precision\n",
        "3.   recall\n",
        "4.   F1-score\n",
        "5.   F $_{\\beta}$-score\n",
        "6.   Matriz de confusión\n"
      ]
    },
    {
      "cell_type": "code",
      "execution_count": 305,
      "metadata": {
        "id": "gqMwT2o5kZaa"
      },
      "outputs": [],
      "source": [
        "def accuracy(y_true, y_pred):\n",
        "    x=(y_true==y_pred)\n",
        "    return x.mean()\n",
        "\n",
        "def precision(y_true, y_pred):\n",
        "    tp=(y_true==y_pred) & (y_pred==1)\n",
        "    tp=tp.sum()\n",
        "    fp=(y_true==0) & (y_pred==1)\n",
        "    fp=fp.sum()\n",
        "    if tp + fp == 0:\n",
        "        return 0\n",
        "    pr=tp/(tp+fp)\n",
        "    return pr\n",
        "\n",
        "def recall(y_true, y_pred):\n",
        "    tp=(y_true==y_pred) & (y_pred==1)\n",
        "    tp=tp.sum()\n",
        "    fn=(y_true==1) & (y_pred==0)\n",
        "    fn=fn.sum()\n",
        "    if tp + fn == 0:\n",
        "        return 0\n",
        "    rc=tp/(tp+fn)\n",
        "    return rc\n",
        "\n",
        "def f1(y_true, y_pred):\n",
        "    nominador=precision(y_true, y_pred)*recall(y_true, y_pred)\n",
        "    denominador=precision(y_true, y_pred)+recall(y_true, y_pred)\n",
        "    ef1=(2*nominador)/denominador\n",
        "    return ef1\n",
        "\n",
        "def confusion_matrix(y_true, y_pred):\n",
        "    tp = (y_true == y_pred) & (y_pred == 1)\n",
        "    tp = tp.sum()\n",
        "    fp = (y_true == 0) & (y_pred == 1)\n",
        "    fp = fp.sum()\n",
        "    fn = (y_true == 1) & (y_pred == 0)\n",
        "    fn = fn.sum()\n",
        "    tn = (y_true == y_pred) & (y_pred == 0)\n",
        "    tn = tn.sum()\n",
        "    matrix = np.array([[tn, fp], [fn, tp]])  \n",
        "    return matrix"
      ]
    },
    {
      "cell_type": "markdown",
      "metadata": {
        "id": "HdrqFrEXoLEO"
      },
      "source": [
        "### 1.2 Crear diversos casos de test que prueben diferentes aspectos de cada metrica"
      ]
    },
    {
      "cell_type": "code",
      "execution_count": 272,
      "metadata": {
        "colab": {
          "base_uri": "https://localhost:8080/",
          "height": 381
        },
        "id": "CWdaJjPDoSyk",
        "outputId": "55e3f397-7f02-4aee-d429-afe18a9388f6"
      },
      "outputs": [],
      "source": [
        "#Crear tests usando asserts\n",
        "\n",
        "y_true = np.array([1, 1, 0, 1, 0, 0, 1, 0, 0, 0])\n",
        "y_pred = np.array([1, 0, 0, 1, 0, 1, 1, 1, 0, 0])\n",
        "\n",
        "assert np.isclose(accuracy(y_true, y_pred), 7/10)"
      ]
    },
    {
      "cell_type": "markdown",
      "metadata": {
        "id": "KKLwxPifjJev"
      },
      "source": [
        "## Clasificadores\n",
        "\n",
        "Vamos a implementar los clasificadores usando el mismo esquema de la librería `sklearn`. Para ello, vamos a crear una clase `Clasificador` que tenga los siguientes métodos:\n",
        "\n",
        "*   `fit(X,y)`: recibe los datos de entrenamiento y los labels y entrena el clasificador\n",
        "*   `predict(X)`: recibe los datos de test y devuelve las predicciones\n",
        "\n",
        "Empecemos con clasificadores baseline, es decir, clasificadores que no aprenden nada o casi nada de los datos"
      ]
    },
    {
      "cell_type": "markdown",
      "metadata": {
        "id": "f-oOsGhcoTY0"
      },
      "source": [
        "### 1.3 Random\n",
        "\n",
        "Implementar un clasificador que prediga una clase al azar. Para ello, usar la función `np.random.randint`"
      ]
    },
    {
      "cell_type": "code",
      "execution_count": 273,
      "metadata": {
        "id": "qvsP6fDq7QSj"
      },
      "outputs": [],
      "source": [
        "class RandomClassifier:\n",
        "    def __init__(self, num_classes):\n",
        "        self.num_classes = num_classes\n",
        "        self.unique_labels = None\n",
        "\n",
        "    def fit(self, X, y):\n",
        "        #compruebo que las regresandas sean enteros, sino, modifico\n",
        "        if y.dtype == 'object':\n",
        "            self.unique_labels, integer_labels = np.unique(y, return_inverse=True)\n",
        "            y = integer_labels\n",
        "        else:\n",
        "            self.unique_labels = np.unique(y)\n",
        "            y = y\n",
        "\n",
        "    def predict(self, X):\n",
        "        n=X.shape[0]        \n",
        "        integer_predictions =np.random.randint(low=0,high=self.num_classes, size=n)\n",
        "        original_predictions = self.unique_labels[integer_predictions]\n",
        "        return original_predictions"
      ]
    },
    {
      "cell_type": "code",
      "execution_count": 274,
      "metadata": {
        "id": "aduEFp5xjJex"
      },
      "outputs": [],
      "source": [
        "# Genero 1000 etiquetas con 0 y 1000 etiquetas con 1\n",
        "# Un clasificador aleatorio debería tener un accuracy cercano a 0.5\n",
        "X = np.random.randint(0, 2, size=(2000, 2))\n",
        "y_true = np.concatenate([np.zeros(1000), np.ones(1000)])\n",
        "\n",
        "clf = RandomClassifier(num_classes=2)\n",
        "\n",
        "clf.fit(X, y_true)\n",
        "\n",
        "y_pred = clf.predict(X)\n",
        "assert np.isclose(accuracy_score(y_true, y_pred), 0.5, atol=0.05)"
      ]
    },
    {
      "cell_type": "markdown",
      "metadata": {
        "id": "1lp2JZVljJey"
      },
      "source": [
        "## 1.4 Majority Class Classifier\n",
        "\n",
        "Programar un algoritmo que prediga la clase mayoritaria sobre los datos\n",
        "\n"
      ]
    },
    {
      "cell_type": "markdown",
      "metadata": {
        "id": "QHoZ0lE7jJey"
      },
      "source": [
        "Mirar la documentación de `np.bincount` y `np.argmax`. ¿Para qué sirven?"
      ]
    },
    {
      "cell_type": "code",
      "execution_count": 275,
      "metadata": {
        "id": "ANYT0cI9jJey"
      },
      "outputs": [
        {
          "data": {
            "text/plain": [
              "(array([2, 1, 3, 2, 8], dtype=int64), 4)"
            ]
          },
          "execution_count": 275,
          "metadata": {},
          "output_type": "execute_result"
        }
      ],
      "source": [
        "y = np.array([1,0,0,2,2,2,3,3,4,4,4,4,4,4,4,4])\n",
        "c=np.bincount(y)\n",
        "c, np.argmax(c)"
      ]
    },
    {
      "cell_type": "code",
      "execution_count": 276,
      "metadata": {
        "id": "aRBoXQp5jJey"
      },
      "outputs": [],
      "source": [
        "# el majority classifier es una combinacion de bincount y argmax\n",
        "class MajorityClassifier:\n",
        "    def __init__(self):\n",
        "        self.majority = None\n",
        "        self.classes = None\n",
        "\n",
        "    def fit(self, y):\n",
        "        #compruebo que las regresandas sean enteros, sino, modifico\n",
        "        if y.dtype == 'object':\n",
        "            self.classes, integer_classes = np.unique(y, return_inverse=True)\n",
        "            y = integer_classes\n",
        "        else:\n",
        "            self.classes = np.unique(y)\n",
        "            y = y\n",
        "        c = np.bincount(y)\n",
        "        self.mc = np.argmax(c)\n",
        "        return self\n",
        "\n",
        "\n",
        "    def predict(self, X):\n",
        "        integer_predictions = np.full(X.shape[0], self.mc)\n",
        "        \n",
        "        original_predictions = self.classes[integer_predictions]\n",
        "        \n",
        "        return original_predictions\n"
      ]
    },
    {
      "cell_type": "code",
      "execution_count": 277,
      "metadata": {},
      "outputs": [
        {
          "data": {
            "text/plain": [
              "array([0, 0, 0, 0, 0])"
            ]
          },
          "execution_count": 277,
          "metadata": {},
          "output_type": "execute_result"
        }
      ],
      "source": [
        "y=np.array([1,2,2,3,4])\n",
        "X=np.array([0,0,0,1,1])\n",
        "clf=MajorityClassifier()\n",
        "clf.fit(X)\n",
        "clf.predict(X)"
      ]
    },
    {
      "cell_type": "markdown",
      "metadata": {
        "id": "qDYPfIbpjJez"
      },
      "source": [
        "## 2. Naive Bayes\n",
        "\n",
        "Supongamos que tenemos un problema de clasificación con $K$ clases, y $p$ predictores/features.\n",
        "\n",
        "Recordemos que por el teorema de Bayes, podemos escribir la probabilidad de que una instancia $x$ pertenezca a una clase $k$ (posterior) como:\n",
        "\n",
        "$$P(y=k|x) = \\frac{P(x|y=k)P(y=k)}{P(x)}$$\n",
        "\n",
        "- $P(x|y=k)$ es la probabilidad condicional de $x$ dado que la clase es $k$. Podemos escribirla como $f_k(x)$, donde $f_k$ es la función de densidad de probabilidad de la clase $k$.\n",
        "- $P(y=k)$ lo podemos modelar como la frecuencia de la clase $k$ en el conjunto de entrenamiento (usualmente, escrita como $\\pi_k$)\n",
        "- $P(x)$ es la probabilidad marginal de $x$, que podemos calcular como la suma de las probabilidades condicionales de $x$ para cada clase $k$ (Probabilidad total)\n",
        "$$P(x) = \\sum_{k=1}^K P(x|y=k)P(y=k)$$\n",
        "\n",
        "Reescribiendo todo esto, podemos calcular la probabilidad de que una instancia $x$ pertenezca a una clase $k$ como:\n",
        "\n",
        "$$P(y=k|x) = \\frac{f_k(x)\\pi_k}{\\sum_{j=1}^K f_j(x)\\pi_j}$$\n",
        "\n",
        "$x$ es un vector de $p$ dimensiones, y cada una de sus componentes es una variable aleatoria. Si asumimos que cada componente de $x$ es independiente de las demás, podemos escribir la función de densidad de probabilidad de la clase $k$ como:\n",
        "\n",
        "$$f_k(x) = \\prod_{j=1}^p f_{kj}(x_j)$$\n",
        "\n",
        "Entonces, para cada clase $k$, tenemos que estimar $p$ funciones de densidad de probabilidad $f_{kj}(x_j)$, una para cada predictor $j$ (tenemos $K \\times p$ predictores)."
      ]
    },
    {
      "cell_type": "markdown",
      "metadata": {
        "id": "v4afir-kjJez"
      },
      "source": [
        "## 2.1 Precalentamiento\n",
        "\n",
        "### 2.1.2 Estimar funcion de densidad para variables categóricas"
      ]
    },
    {
      "cell_type": "markdown",
      "metadata": {
        "id": "w0_FFKp9jJez"
      },
      "source": [
        "Sea $X$ un vector de observaciones de una variable Bernoulli. Utilizar `np.bincount` para estimar la función de densidad de probabilidad de $X$."
      ]
    },
    {
      "cell_type": "code",
      "execution_count": 278,
      "metadata": {
        "id": "1JXIqKl2jJe0"
      },
      "outputs": [
        {
          "data": {
            "text/plain": [
              "0.6"
            ]
          },
          "execution_count": 278,
          "metadata": {},
          "output_type": "execute_result"
        }
      ],
      "source": [
        "X = np.array([0, 0, 0, 0, 1, 1, 1, 1, 1, 1])\n",
        "def f_ber(X):\n",
        "    c=np.bincount(X)\n",
        "    l=X.shape[0]\n",
        "    p=c[1]/l\n",
        "    return(p)\n",
        "\n",
        "f_ber(X)"
      ]
    },
    {
      "cell_type": "markdown",
      "metadata": {
        "id": "hC5DHpkpjJe0"
      },
      "source": [
        "Utilizar `scipy.stats.rv_discrete` para estimar la función de densidad de probabilidad de $X$\n",
        "\n",
        "La función recibe un parámetro `values` que toma un par de arrays `(Xk, pk)` donde `Xk` son los valores que toma la variable aleatoria y `pk` son las probabilidades asociadas a cada valor.\n",
        "\n",
        "Utilizar la función `.pmf` para evaluar la función de densidad de probabilidad en un punto."
      ]
    },
    {
      "cell_type": "code",
      "execution_count": 279,
      "metadata": {
        "id": "Kxmb0J87jJe1"
      },
      "outputs": [
        {
          "data": {
            "text/plain": [
              "(0.4, 0.6, 0.0)"
            ]
          },
          "execution_count": 279,
          "metadata": {},
          "output_type": "execute_result"
        }
      ],
      "source": [
        "def f(X):\n",
        "    p = np.bincount(X) / X.shape[0]\n",
        "    v = np.unique(X)\n",
        "    f = scipy.stats.rv_discrete(values=(v, p))\n",
        "    return(f)\n",
        "\n",
        "x=f(X)\n",
        "x.pmf(0), x.pmf(1), x.pmf(2)"
      ]
    },
    {
      "cell_type": "markdown",
      "metadata": {
        "id": "Wx26Gun_Iq-D"
      },
      "source": [
        "### 3.1 Programar naive bayes para variables categoricas\n"
      ]
    },
    {
      "cell_type": "code",
      "execution_count": 280,
      "metadata": {
        "id": "lqxwYW1bjJe4"
      },
      "outputs": [],
      "source": [
        "class NaiveBayes:\n",
        "    \"\"\"\n",
        "    Naive bayes para variables categóricas\n",
        "    \"\"\"\n",
        "    def __init__(self):\n",
        "        self.priors = None\n",
        "        self.densities = None\n",
        "        self.classes = None\n",
        "    \n",
        "\n",
        "    def fit(self, X, y):\n",
        "        #compruebo que las regresandas sean enteros, sino, modifico\n",
        "        if y.dtype == 'object':\n",
        "            unique_labels, integer_labels = np.unique(y, return_inverse=True)\n",
        "            y=integer_labels\n",
        "        else:\n",
        "            y=y\n",
        "\n",
        "        assert X.dtype == int, \"X debe ser int\"\n",
        "        assert y.dtype == int, \"y debe ser int\"\n",
        "        assert X.shape[0]==y.shape[0], \"X debe ser del mismo largo que y\"\n",
        "\n",
        "        self.priors = np.bincount(y) / len(y)\n",
        "        self.classes = np.unique(y)\n",
        "        self.features=np.unique(X[0][0])\n",
        "\n",
        "        n_classes = len(self.classes)\n",
        "        num_features = X.shape[1]\n",
        "\n",
        "        # Armo una matriz de n_classes x num_features que sería la cantidad de f_ij que necesito\n",
        "        self.densities = [[None] * num_features for i in range(n_classes)]\n",
        "        \n",
        "        #tengo i por j funciones de densidad\n",
        "        #num_features es j\n",
        "        for i, c in enumerate(self.classes):\n",
        "            X_c = X[y == c]\n",
        "            for j in range(X_c.shape[1]):  # Loop a traves de cada feature X_c_j\n",
        "                feature_values = X_c[:, j]\n",
        "                p_x = np.bincount(feature_values) / feature_values.shape[0]\n",
        "                v_x = np.unique(X_c)\n",
        "                self.densities[i][j] = scipy.stats.rv_discrete(values=(v_x, p_x))   \n",
        "\n",
        "\n",
        "    def predict(self, X):\n",
        "        assert self.priors is not None, \"Hay que llamar a fit primero\"\n",
        "        \n",
        "        predictions = []\n",
        "        \n",
        "        for x in X:  # Loop para cada muestra en X\n",
        "            p_i_x = np.zeros(len(self.classes))  # Inicializar las probabilidades a posteriori como ceros\n",
        "\n",
        "            for i, c in enumerate(self.classes):  # Loop para cada clase\n",
        "                p_i = self.priors[i]  # Probabilidad a priori de la clase\n",
        "                p_i_j = np.ones(len(x))  # Inicializar probabilidades condicionales como unos\n",
        "                \n",
        "                for j, feature in enumerate(x):  # Loop para cada característica\n",
        "                    p_i_j[j] = self.densities[i][j].pmf(feature)  # Actualizar probabilidad condicional\n",
        "                \n",
        "                p_i *= np.prod(p_i_j)  # Multiplicar por todas las probabilidades condicionales\n",
        "                p_i_x[i] = p_i  # Almacenar la probabilidad a posteriori para la clase\n",
        "                \n",
        "            predicted_class = np.argmax(p_i_x)  # Elegir la clase con la mayor probabilidad a posteriori\n",
        "            predictions.append(self.classes[predicted_class])\n",
        "            \n",
        "        return np.array(predictions)\n",
        "\n"
      ]
    },
    {
      "cell_type": "markdown",
      "metadata": {
        "id": "_LjYY3udjJe4"
      },
      "source": [
        "Vamos a probar todo esto en un dataset generado aleatoriamente. Este dataset consta de 200 observaciones con 5 variables Bernoulli $X_1, X_2, X_3, X_4, X_5$\n",
        "\n",
        "$$Y|X_1, X_2, X_3, X_4, X_5 \\sim Bernoulli(\\frac{X_1 + \\ldots + X_5}{5})$$"
      ]
    },
    {
      "cell_type": "code",
      "execution_count": 281,
      "metadata": {
        "id": "Piq4DznijJe5"
      },
      "outputs": [],
      "source": [
        "\n",
        "n_samples = 200\n",
        "num_vars = 5\n",
        "\n",
        "np.random.seed(2023)\n",
        "\n",
        "X = np.random.randint(0, 2, (n_samples, num_vars))\n",
        "\n",
        "# Creamos  Bernoulli(P/num_vars)\n",
        "\n",
        "P = X.sum(axis=1) / num_vars\n",
        "y = np.random.binomial(1, P)\n",
        "\n",
        "# Train / test split\n",
        "\n",
        "X_train, y_train = X[:160], y[:160]\n",
        "X_test, y_test = X[160:], y[160:]"
      ]
    },
    {
      "cell_type": "markdown",
      "metadata": {
        "id": "raKjltOCjJe5"
      },
      "source": [
        "Entrenar el modelo sobre los datos de entrenamiento y predecir sobre los datos de test para:\n",
        "\n",
        "- RandomClassifier\n",
        "- MajorityClassifier\n",
        "- NaiveBayes\n",
        "\n",
        "Reportar accuracy, precision, recall y F1-score para cada clasificador\n",
        "\n",
        "\n",
        "\n",
        "- ¿Anda mejor Naive Bayes que los clasificadores baseline? ¿se cumplen las hipótesis de Naive Bayes en este caso?\n",
        "\n",
        "- **OPCIONAL**. Calcular el error de Bayes. ¿Cómo se compara con el de Naive Bayes?"
      ]
    },
    {
      "cell_type": "code",
      "execution_count": 282,
      "metadata": {},
      "outputs": [
        {
          "data": {
            "text/plain": [
              "array([65, 95], dtype=int64)"
            ]
          },
          "execution_count": 282,
          "metadata": {},
          "output_type": "execute_result"
        }
      ],
      "source": [
        "p_x = np.bincount(X_train[:,3])\n",
        "p_x "
      ]
    },
    {
      "cell_type": "code",
      "execution_count": 283,
      "metadata": {
        "id": "18YLl2vQjJe6"
      },
      "outputs": [
        {
          "data": {
            "text/plain": [
              "(0.725, 0.8571428571428571, 0.6923076923076923)"
            ]
          },
          "execution_count": 283,
          "metadata": {},
          "output_type": "execute_result"
        }
      ],
      "source": [
        "clf=NaiveBayes()\n",
        "\n",
        "clf.fit(X_train,y_train)\n",
        "\n",
        "y_pred=clf.predict(X_test)\n",
        "\n",
        "accuracy_nb=accuracy(y_test,y_pred)\n",
        "precision_nb=precision(y_test,y_pred)\n",
        "recall_nb=recall(y_test,y_pred)\n",
        "\n",
        "accuracy_nb, precision_nb, recall_nb"
      ]
    },
    {
      "cell_type": "code",
      "execution_count": 284,
      "metadata": {
        "id": "TldnN4OYjJe6"
      },
      "outputs": [
        {
          "data": {
            "text/plain": [
              "(0.6, 0.7272727272727273, 0.6153846153846154)"
            ]
          },
          "execution_count": 284,
          "metadata": {},
          "output_type": "execute_result"
        }
      ],
      "source": [
        "clf = RandomClassifier(2)\n",
        "\n",
        "clf.fit(X_train,y_train)\n",
        "\n",
        "y_pred=clf.predict(X_test)\n",
        "\n",
        "accuracy_rnd=accuracy(y_test,y_pred)\n",
        "precision_rnd=precision(y_test,y_pred)\n",
        "recall_rnd=recall(y_test,y_pred)\n",
        "\n",
        "accuracy_rnd, precision_rnd, recall_rnd"
      ]
    },
    {
      "cell_type": "code",
      "execution_count": 285,
      "metadata": {
        "id": "l2erQizCjJe7"
      },
      "outputs": [
        {
          "name": "stdout",
          "output_type": "stream",
          "text": [
            "Majority Class: 0\n"
          ]
        },
        {
          "data": {
            "text/plain": [
              "(0.35, 0, 0.0)"
            ]
          },
          "execution_count": 285,
          "metadata": {},
          "output_type": "execute_result"
        }
      ],
      "source": [
        "clf = MajorityClassifier()\n",
        "\n",
        "\n",
        "clf.fit(y_train)\n",
        "print(\"Majority Class:\", clf.mc)\n",
        "\n",
        "y_pred=clf.predict(X_test)\n",
        "\n",
        "accuracy_mjr=accuracy(y_test,y_pred)\n",
        "precision_mjr=precision(y_test,y_pred)\n",
        "recall_mjr=recall(y_test,y_pred)\n",
        "\n",
        "accuracy_mjr, precision_mjr, recall_mjr\n"
      ]
    },
    {
      "cell_type": "markdown",
      "metadata": {
        "id": "7zUcPPtPKevV"
      },
      "source": [
        "### 3.2 Programar naive bayes para variables gaussianas.\n",
        "¿Cómo podria estimar $P(a_i|v_j)$? Piense en fitear diferentes distribuciones que le permitan luego inferir valores nuevos.\n",
        "\n",
        "Ayuda: Puede usera `scipy.stats.norm( mu , std ).pdf( new_val )` como funcion de densidad de probabilidad de una normal y evaluarla en new_val\n",
        "\n",
        "\n"
      ]
    },
    {
      "cell_type": "code",
      "execution_count": 286,
      "metadata": {
        "id": "qIWXzzuNjJe7"
      },
      "outputs": [],
      "source": [
        "class GaussianNaiveBayes:\n",
        "    \"\"\"\n",
        "    Naive bayes para variables gaussianas\n",
        "    \"\"\"\n",
        "    def __init__(self):\n",
        "        self.priors = None\n",
        "        self.densities = None\n",
        "        self.classes = None\n",
        "        self.unique_labels= None\n",
        "\n",
        "    def fit(self, X, y):\n",
        "        if y.dtype == 'object':\n",
        "            #compruebo que las regresandas sean enteros, sino, modifico\n",
        "            self.unique_labels, integer_labels = np.unique(y, return_inverse=True)\n",
        "            y = integer_labels\n",
        "        else:\n",
        "            self.unique_labels = np.unique(y)  # Si y ya es entero, simplemente toma las etiquetas únicas\n",
        "            y = y\n",
        "\n",
        "        assert y.dtype == \"int64\", \"y debe ser int\"\n",
        "        assert X.shape[0]==y.shape[0], \"X debe ser del mismo largo que y\"\n",
        "\n",
        "        self.priors = np.bincount(y) / len(y)\n",
        "        self.classes = np.unique(y)\n",
        "        self.features=np.unique(X[0][0])\n",
        "        n_classes = len(self.classes)\n",
        "        num_features = X.shape[1]\n",
        "\n",
        "        # Armo una matriz de n_classes x num_features que sería la cantidad de f_ij que necesito\n",
        "        self.densities = [[None] * num_features for i in range(n_classes)]\n",
        "        \n",
        "        #tengo i por j funciones de densidad\n",
        "        #num_features es j\n",
        "        for i, c in enumerate(self.classes):\n",
        "            X_c = X[y == c]\n",
        "            for j in range(X_c.shape[1]):  # Loop a traves de cada feature X_c_j\n",
        "                feature_values = X_c[:, j]\n",
        "                mu_x=feature_values.mean()\n",
        "                std_x=feature_values.std()\n",
        "                v_x = np.unique(X_c)\n",
        "                self.densities[i][j] = scipy.stats.norm(mu_x, std_x )  # Cambio las funciones de densidad asumiendo variables continuas normales\n",
        "\n",
        "    def predict(self, X):\n",
        "        assert self.priors is not None, \"Hay que llamar a fit primero\"\n",
        "        \n",
        "        predictions = []\n",
        "        \n",
        "        for x in X:  # Loop para cada muestra en X\n",
        "            p_i_x = np.zeros(len(self.classes))  # Inicializar las probabilidades a posteriori como ceros\n",
        "\n",
        "            for i, c in enumerate(self.classes):  # Loop para cada clase\n",
        "                p_i = self.priors[i]  # Probabilidad a priori de la clase\n",
        "                p_i_j = np.ones(len(x))  # Inicializar probabilidades condicionales como unos\n",
        "                \n",
        "                for j, feature in enumerate(x):  # Loop para cada característica\n",
        "                    p_i_j[j] = self.densities[i][j].pdf(feature)  # Actualizar probabilidad condicional\n",
        "                \n",
        "                p_i *= np.prod(p_i_j)  # Multiplicar por todas las probabilidades condicionales\n",
        "                p_i_x[i] = p_i  # Almacenar la probabilidad a posteriori para la clase\n",
        "                \n",
        "            predicted_class = np.argmax(p_i_x)  # Elegir la clase con la mayor probabilidad a posteriori\n",
        "            predictions.append(self.classes[predicted_class])\n",
        "            original_predictions = self.unique_labels[predictions]\n",
        "            \n",
        "        return np.array(original_predictions)\n"
      ]
    },
    {
      "cell_type": "markdown",
      "metadata": {
        "id": "vxZpAFQRjJe7"
      },
      "source": [
        "### 3.3 LDA\n",
        "\n",
        "Programar LDA para variables gaussianas\n",
        "\n",
        "Utilizar las funciones `np.mean` y `np.cov` para estimar los parámetros de las gaussianas"
      ]
    },
    {
      "cell_type": "code",
      "execution_count": 287,
      "metadata": {
        "id": "No6BnGDtjJe8"
      },
      "outputs": [],
      "source": [
        "import numpy as np\n",
        "\n",
        "class LDAClassifier:\n",
        "    def __init__(self):\n",
        "        self.means = None\n",
        "        self.cov_matrix = None\n",
        "        self.priors = None\n",
        "        self.classes = None\n",
        "\n",
        "    def fit(self, X, y):\n",
        "        self.classes = np.unique(y)        \n",
        "        self.means = {}\n",
        "        covs = []\n",
        "        \n",
        "        self.priors = {}\n",
        "        \n",
        "        for c in self.classes:\n",
        "            X_c = X[y == c]\n",
        "            \n",
        "            self.means[c] = np.mean(X_c, axis=0)\n",
        "            covs.append(np.cov(X_c, rowvar=False))\n",
        "            \n",
        "            self.priors[c] = len(X_c) / len(X)\n",
        "        \n",
        "        self.cov_matrix = np.mean(covs, axis=0)\n",
        "        \n",
        "        self.inv_cov_matrix = np.linalg.inv(self.cov_matrix)\n",
        "\n",
        "    def predict(self, X):\n",
        "        preds = []\n",
        "        for x in X:\n",
        "            scores = []\n",
        "            for c in self.classes:\n",
        "                mean_diff = x - self.means[c]\n",
        "                score = mean_diff.T @ self.inv_cov_matrix @ mean_diff\n",
        "                score = -0.5 * score + np.log(self.priors[c])\n",
        "                scores.append(score)\n",
        "            \n",
        "            preds.append(self.classes[np.argmax(scores)])\n",
        "        \n",
        "        return np.array(preds)\n"
      ]
    },
    {
      "cell_type": "markdown",
      "metadata": {
        "id": "CTAUAZL_jJe8"
      },
      "source": [
        "#### Opcional: Implementar QDA\n",
        "\n",
        "Leer en el ISLP el capítulo de QDA y programar el algoritmo"
      ]
    },
    {
      "cell_type": "code",
      "execution_count": 288,
      "metadata": {},
      "outputs": [],
      "source": [
        "import numpy as np\n",
        "\n",
        "class QDAClassifier:\n",
        "    def __init__(self):\n",
        "        self.distributions = {}\n",
        "        self.priors = {}\n",
        "        self.classes = None\n",
        "\n",
        "    def fit(self, X, y):\n",
        "        self.classes = np.unique(y)\n",
        "        \n",
        "        for c in self.classes:\n",
        "            subset = X[y == c]\n",
        "            mean_vector = np.mean(subset, axis=0)\n",
        "            cov_matrix = np.cov(subset, rowvar=False)\n",
        "            self.distributions[c] = {'mean': mean_vector, 'cov': cov_matrix}\n",
        "            self.priors[c] = len(subset) / len(X)\n",
        "\n",
        "    def predict(self, X):\n",
        "        predictions = []\n",
        "        \n",
        "        for x in X:\n",
        "            posterior_probs = {}\n",
        "            \n",
        "            for c in self.classes:\n",
        "                mean_vector = self.distributions[c]['mean']\n",
        "                cov_matrix = self.distributions[c]['cov']\n",
        "                \n",
        "                diff = x - mean_vector\n",
        "                \n",
        "                exponent = -0.5 * diff.T @ np.linalg.inv(cov_matrix) @ diff\n",
        "                coefficient = 1 / np.sqrt((2 * np.pi)**len(x) * np.linalg.det(cov_matrix))\n",
        "                \n",
        "                posterior_probs[c] = coefficient * np.exp(exponent) * self.priors[c]\n",
        "            \n",
        "            predicted_class = max(posterior_probs, key=posterior_probs.get)\n",
        "            predictions.append(predicted_class)\n",
        "        \n",
        "        return np.array(predictions)"
      ]
    },
    {
      "cell_type": "markdown",
      "metadata": {
        "id": "cpmRY34tjJe8"
      },
      "source": [
        "## 3.4 Dataset Iris (Lirios)\n",
        "\n",
        "\n",
        "![texto alternativo](https://cdn0.ecologiaverde.com/es/posts/4/1/0/tipos_de_lirios_3014_orig.jpg)\n",
        "\n",
        "El dataset Iris es un dataset clásico de clasificación. Contiene 150 observaciones de 3 clases de flores distintas (50 observaciones por clase). Cada observación tiene 4 features: largo y ancho del sépalo y largo y ancho del pétalo.\n",
        "\n",
        "Fue introducido por el estadístico y biólogo británico Ronald Fisher en 1936.\n",
        "\n",
        "Dato importante: si tienen gatos, no tengan lirios cerca. Son sumamente tóxicos."
      ]
    },
    {
      "cell_type": "code",
      "execution_count": 289,
      "metadata": {
        "id": "h1RRwriBjJe8"
      },
      "outputs": [
        {
          "data": {
            "text/html": [
              "<div>\n",
              "<style scoped>\n",
              "    .dataframe tbody tr th:only-of-type {\n",
              "        vertical-align: middle;\n",
              "    }\n",
              "\n",
              "    .dataframe tbody tr th {\n",
              "        vertical-align: top;\n",
              "    }\n",
              "\n",
              "    .dataframe thead th {\n",
              "        text-align: right;\n",
              "    }\n",
              "</style>\n",
              "<table border=\"1\" class=\"dataframe\">\n",
              "  <thead>\n",
              "    <tr style=\"text-align: right;\">\n",
              "      <th></th>\n",
              "      <th>sepal length</th>\n",
              "      <th>sepal width</th>\n",
              "      <th>petal length</th>\n",
              "      <th>petal width</th>\n",
              "      <th>species</th>\n",
              "    </tr>\n",
              "  </thead>\n",
              "  <tbody>\n",
              "    <tr>\n",
              "      <th>0</th>\n",
              "      <td>5.1</td>\n",
              "      <td>3.5</td>\n",
              "      <td>1.4</td>\n",
              "      <td>0.2</td>\n",
              "      <td>setosa</td>\n",
              "    </tr>\n",
              "    <tr>\n",
              "      <th>1</th>\n",
              "      <td>4.9</td>\n",
              "      <td>3.0</td>\n",
              "      <td>1.4</td>\n",
              "      <td>0.2</td>\n",
              "      <td>setosa</td>\n",
              "    </tr>\n",
              "    <tr>\n",
              "      <th>2</th>\n",
              "      <td>4.7</td>\n",
              "      <td>3.2</td>\n",
              "      <td>1.3</td>\n",
              "      <td>0.2</td>\n",
              "      <td>setosa</td>\n",
              "    </tr>\n",
              "    <tr>\n",
              "      <th>3</th>\n",
              "      <td>4.6</td>\n",
              "      <td>3.1</td>\n",
              "      <td>1.5</td>\n",
              "      <td>0.2</td>\n",
              "      <td>setosa</td>\n",
              "    </tr>\n",
              "    <tr>\n",
              "      <th>4</th>\n",
              "      <td>5.0</td>\n",
              "      <td>3.6</td>\n",
              "      <td>1.4</td>\n",
              "      <td>0.2</td>\n",
              "      <td>setosa</td>\n",
              "    </tr>\n",
              "    <tr>\n",
              "      <th>...</th>\n",
              "      <td>...</td>\n",
              "      <td>...</td>\n",
              "      <td>...</td>\n",
              "      <td>...</td>\n",
              "      <td>...</td>\n",
              "    </tr>\n",
              "    <tr>\n",
              "      <th>145</th>\n",
              "      <td>6.7</td>\n",
              "      <td>3.0</td>\n",
              "      <td>5.2</td>\n",
              "      <td>2.3</td>\n",
              "      <td>virginica</td>\n",
              "    </tr>\n",
              "    <tr>\n",
              "      <th>146</th>\n",
              "      <td>6.3</td>\n",
              "      <td>2.5</td>\n",
              "      <td>5.0</td>\n",
              "      <td>1.9</td>\n",
              "      <td>virginica</td>\n",
              "    </tr>\n",
              "    <tr>\n",
              "      <th>147</th>\n",
              "      <td>6.5</td>\n",
              "      <td>3.0</td>\n",
              "      <td>5.2</td>\n",
              "      <td>2.0</td>\n",
              "      <td>virginica</td>\n",
              "    </tr>\n",
              "    <tr>\n",
              "      <th>148</th>\n",
              "      <td>6.2</td>\n",
              "      <td>3.4</td>\n",
              "      <td>5.4</td>\n",
              "      <td>2.3</td>\n",
              "      <td>virginica</td>\n",
              "    </tr>\n",
              "    <tr>\n",
              "      <th>149</th>\n",
              "      <td>5.9</td>\n",
              "      <td>3.0</td>\n",
              "      <td>5.1</td>\n",
              "      <td>1.8</td>\n",
              "      <td>virginica</td>\n",
              "    </tr>\n",
              "  </tbody>\n",
              "</table>\n",
              "<p>150 rows × 5 columns</p>\n",
              "</div>"
            ],
            "text/plain": [
              "     sepal length  sepal width  petal length  petal width    species\n",
              "0             5.1          3.5           1.4          0.2     setosa\n",
              "1             4.9          3.0           1.4          0.2     setosa\n",
              "2             4.7          3.2           1.3          0.2     setosa\n",
              "3             4.6          3.1           1.5          0.2     setosa\n",
              "4             5.0          3.6           1.4          0.2     setosa\n",
              "..            ...          ...           ...          ...        ...\n",
              "145           6.7          3.0           5.2          2.3  virginica\n",
              "146           6.3          2.5           5.0          1.9  virginica\n",
              "147           6.5          3.0           5.2          2.0  virginica\n",
              "148           6.2          3.4           5.4          2.3  virginica\n",
              "149           5.9          3.0           5.1          1.8  virginica\n",
              "\n",
              "[150 rows x 5 columns]"
            ]
          },
          "execution_count": 289,
          "metadata": {},
          "output_type": "execute_result"
        }
      ],
      "source": [
        "from sklearn import datasets\n",
        "import pandas as pd\n",
        "\n",
        "iris = datasets.load_iris()\n",
        "X = iris.data\n",
        "y = iris.target\n",
        "\n",
        "df = pd.DataFrame(X, columns=[x.strip(\" (cm)\") for x in iris.feature_names])\n",
        "df[\"species\"] = [iris.target_names[x] for x in y]\n",
        "df"
      ]
    },
    {
      "cell_type": "markdown",
      "metadata": {
        "id": "MPzFf6j0jJe9"
      },
      "source": [
        "### 3.4.1 Análisis exploratorio\n",
        "\n",
        "Explorar el dataset. ¿Qué tipo de problema es? ¿Qué tipo de features tiene?\n",
        "\n",
        "Use `sns.displot` y `sns.pairplot` para visualizar las distribuciones de las variables y las relaciones entre ellas.\n",
        "\n",
        "¿Qué clase es más fácil de separar de las otras dos? ¿Cuál es más difícil?"
      ]
    },
    {
      "cell_type": "code",
      "execution_count": 290,
      "metadata": {},
      "outputs": [
        {
          "name": "stdout",
          "output_type": "stream",
          "text": [
            "<class 'pandas.core.frame.DataFrame'>\n",
            "RangeIndex: 150 entries, 0 to 149\n",
            "Data columns (total 5 columns):\n",
            " #   Column        Non-Null Count  Dtype  \n",
            "---  ------        --------------  -----  \n",
            " 0   sepal length  150 non-null    float64\n",
            " 1   sepal width   150 non-null    float64\n",
            " 2   petal length  150 non-null    float64\n",
            " 3   petal width   150 non-null    float64\n",
            " 4   species       150 non-null    object \n",
            "dtypes: float64(4), object(1)\n",
            "memory usage: 6.0+ KB\n"
          ]
        }
      ],
      "source": [
        "df.info()"
      ]
    },
    {
      "cell_type": "code",
      "execution_count": 291,
      "metadata": {},
      "outputs": [
        {
          "data": {
            "text/html": [
              "<div>\n",
              "<style scoped>\n",
              "    .dataframe tbody tr th:only-of-type {\n",
              "        vertical-align: middle;\n",
              "    }\n",
              "\n",
              "    .dataframe tbody tr th {\n",
              "        vertical-align: top;\n",
              "    }\n",
              "\n",
              "    .dataframe thead th {\n",
              "        text-align: right;\n",
              "    }\n",
              "</style>\n",
              "<table border=\"1\" class=\"dataframe\">\n",
              "  <thead>\n",
              "    <tr style=\"text-align: right;\">\n",
              "      <th></th>\n",
              "      <th>sepal length</th>\n",
              "      <th>sepal width</th>\n",
              "      <th>petal length</th>\n",
              "      <th>petal width</th>\n",
              "    </tr>\n",
              "  </thead>\n",
              "  <tbody>\n",
              "    <tr>\n",
              "      <th>count</th>\n",
              "      <td>150.000000</td>\n",
              "      <td>150.000000</td>\n",
              "      <td>150.000000</td>\n",
              "      <td>150.000000</td>\n",
              "    </tr>\n",
              "    <tr>\n",
              "      <th>mean</th>\n",
              "      <td>5.843333</td>\n",
              "      <td>3.057333</td>\n",
              "      <td>3.758000</td>\n",
              "      <td>1.199333</td>\n",
              "    </tr>\n",
              "    <tr>\n",
              "      <th>std</th>\n",
              "      <td>0.828066</td>\n",
              "      <td>0.435866</td>\n",
              "      <td>1.765298</td>\n",
              "      <td>0.762238</td>\n",
              "    </tr>\n",
              "    <tr>\n",
              "      <th>min</th>\n",
              "      <td>4.300000</td>\n",
              "      <td>2.000000</td>\n",
              "      <td>1.000000</td>\n",
              "      <td>0.100000</td>\n",
              "    </tr>\n",
              "    <tr>\n",
              "      <th>25%</th>\n",
              "      <td>5.100000</td>\n",
              "      <td>2.800000</td>\n",
              "      <td>1.600000</td>\n",
              "      <td>0.300000</td>\n",
              "    </tr>\n",
              "    <tr>\n",
              "      <th>50%</th>\n",
              "      <td>5.800000</td>\n",
              "      <td>3.000000</td>\n",
              "      <td>4.350000</td>\n",
              "      <td>1.300000</td>\n",
              "    </tr>\n",
              "    <tr>\n",
              "      <th>75%</th>\n",
              "      <td>6.400000</td>\n",
              "      <td>3.300000</td>\n",
              "      <td>5.100000</td>\n",
              "      <td>1.800000</td>\n",
              "    </tr>\n",
              "    <tr>\n",
              "      <th>max</th>\n",
              "      <td>7.900000</td>\n",
              "      <td>4.400000</td>\n",
              "      <td>6.900000</td>\n",
              "      <td>2.500000</td>\n",
              "    </tr>\n",
              "  </tbody>\n",
              "</table>\n",
              "</div>"
            ],
            "text/plain": [
              "       sepal length  sepal width  petal length  petal width\n",
              "count    150.000000   150.000000    150.000000   150.000000\n",
              "mean       5.843333     3.057333      3.758000     1.199333\n",
              "std        0.828066     0.435866      1.765298     0.762238\n",
              "min        4.300000     2.000000      1.000000     0.100000\n",
              "25%        5.100000     2.800000      1.600000     0.300000\n",
              "50%        5.800000     3.000000      4.350000     1.300000\n",
              "75%        6.400000     3.300000      5.100000     1.800000\n",
              "max        7.900000     4.400000      6.900000     2.500000"
            ]
          },
          "execution_count": 291,
          "metadata": {},
          "output_type": "execute_result"
        }
      ],
      "source": [
        "df.describe()"
      ]
    },
    {
      "cell_type": "code",
      "execution_count": 292,
      "metadata": {},
      "outputs": [
        {
          "data": {
            "text/plain": [
              "<seaborn.axisgrid.PairGrid at 0x13a31125e50>"
            ]
          },
          "execution_count": 292,
          "metadata": {},
          "output_type": "execute_result"
        },
        {
          "data": {
            "image/png": "[encoded data removed]",
            "text/plain": [
              "<Figure size 804.75x720 with 20 Axes>"
            ]
          },
          "metadata": {
            "needs_background": "light"
          },
          "output_type": "display_data"
        }
      ],
      "source": [
        "sns.pairplot(data=df, hue= \"species\")"
      ]
    },
    {
      "cell_type": "markdown",
      "metadata": {},
      "source": [
        "##### La clase \"setosa\" pareceria ser mas facil de separar, las otras dos se superponen en algunas variables."
      ]
    },
    {
      "cell_type": "markdown",
      "metadata": {
        "id": "Q2Xf7fgcjJe9"
      },
      "source": [
        "### 3.4.2 Split train/test\n",
        "\n",
        "Utilice la función `train_test_split` de `sklearn.model_selection` para dividir los datos en train y test. Utilice un 66% para train y un 33% para test.\n",
        "\n",
        "Setee como `random_state` el número 42 (¿para qué sirve?). Usar `stratify` para que los datos se dividan de manera estratificada (¿qué es esto?)\n",
        "\n",
        "\n",
        "Consultar [la documentación de `train_test_split`](https://scikit-learn.org/stable/modules/generated/sklearn.model_selection.train_test_split.html) para ver cómo se usa"
      ]
    },
    {
      "cell_type": "code",
      "execution_count": 297,
      "metadata": {
        "id": "vB5ac-StjJe9"
      },
      "outputs": [],
      "source": [
        "from sklearn.model_selection import train_test_split\n",
        "X=df.drop(\"species\",axis=1)\n",
        "y=df[\"species\"]\n",
        "\n",
        "X_train, X_test, y_train, y_test = train_test_split(X,y,train_size=0.66,test_size=0.33,\n",
        "random_state=42, stratify=y)\n",
        "X_train=X_train.values\n",
        "X_test=X_test.values\n",
        "y_train=y_train.values\n",
        "y_test=y_test.values"
      ]
    },
    {
      "cell_type": "markdown",
      "metadata": {
        "id": "FlyK7XX-jJfD"
      },
      "source": [
        "### 3.4.3 Entrenamiento de modelos\n",
        "\n",
        "Entrenar los modelos que ya programamos y predecir sobre los datos de test. Reportar accuracy, precision, recall y F1-score para cada clasificador (pueden usar `sklearn.metrics.classification_report`)"
      ]
    },
    {
      "cell_type": "code",
      "execution_count": 298,
      "metadata": {},
      "outputs": [
        {
          "name": "stdout",
          "output_type": "stream",
          "text": [
            "                                 precision    recall  f1-score  support\n",
            "Model              Metrics                                             \n",
            "RandomClassifier   setosa         0.380952  0.470588  0.421053    17.00\n",
            "                   versicolor     0.384615  0.294118  0.333333    17.00\n",
            "                   virginica      0.437500  0.437500  0.437500    16.00\n",
            "                   accuracy       0.400000  0.400000  0.400000     0.40\n",
            "                   macro avg      0.401023  0.400735  0.397295    50.00\n",
            "                   weighted avg   0.400293  0.400000  0.396491    50.00\n",
            "MajorityClassifier setosa         0.340000  1.000000  0.507463    17.00\n",
            "                   versicolor     0.000000  0.000000  0.000000    17.00\n",
            "                   virginica      0.000000  0.000000  0.000000    16.00\n",
            "                   accuracy       0.340000  0.340000  0.340000     0.34\n",
            "                   macro avg      0.113333  0.333333  0.169154    50.00\n",
            "                   weighted avg   0.115600  0.340000  0.172537    50.00\n",
            "GaussianNaiveBayes setosa         1.000000  1.000000  1.000000    17.00\n",
            "                   versicolor     0.842105  0.941176  0.888889    17.00\n",
            "                   virginica      0.928571  0.812500  0.866667    16.00\n",
            "                   accuracy       0.920000  0.920000  0.920000     0.92\n",
            "                   macro avg      0.923559  0.917892  0.918519    50.00\n",
            "                   weighted avg   0.923459  0.920000  0.919556    50.00\n"
          ]
        }
      ],
      "source": [
        "# Inicializa los modelos\n",
        "r_clas = RandomClassifier(len(np.unique(y_test)))\n",
        "m_clas = MajorityClassifier()\n",
        "gn_bayes = GaussianNaiveBayes()\n",
        "\n",
        "# Entrena los modelos y guarda las predicciones\n",
        "models = {'RandomClassifier': r_clas, 'MajorityClassifier': m_clas, 'GaussianNaiveBayes': gn_bayes}\n",
        "predictions = {}\n",
        "\n",
        "for name, model in models.items():\n",
        "    if name == 'MajorityClassifier':\n",
        "        model.fit(y_train)\n",
        "    else:\n",
        "        model.fit(X_train, y_train)\n",
        "    predictions[name] = model.predict(X_test)\n",
        "\n",
        "# Obtiene los nombres de las clases (etiquetas únicas en y_test)\n",
        "unique_labels = np.unique(y_test)\n",
        "\n",
        "# Genera classification_reports y convierte a DataFrames\n",
        "reports = {}\n",
        "for name, y_pred in predictions.items():\n",
        "    report_dict = sklearn.metrics.classification_report(y_test, y_pred, output_dict=True, target_names=unique_labels.astype(str))\n",
        "    reports[name] = pd.DataFrame(report_dict).transpose()\n",
        "\n",
        "# Concatena todos los DataFrames\n",
        "final_report = pd.concat(reports, names=['Model', 'Metrics'])\n",
        "\n",
        "# Muestra el reporte final\n",
        "print(final_report)"
      ]
    },
    {
      "cell_type": "markdown",
      "metadata": {
        "id": "1c8RitnbjJfD"
      },
      "source": [
        "## 3.4.4 Análisis de errores\n",
        "\n",
        "Calcular la matriz de confusión para el mejor clasificador. ¿Qué clase se confunde más con qué clase? ¿Por qué?\n",
        "\n",
        "Usar `sklearn.metrics.confusion_matrix`"
      ]
    },
    {
      "cell_type": "code",
      "execution_count": 304,
      "metadata": {},
      "outputs": [
        {
          "data": {
            "image/png": "[encoded data removed]",
            "text/plain": [
              "<Figure size 432x288 with 2 Axes>"
            ]
          },
          "metadata": {
            "needs_background": "light"
          },
          "output_type": "display_data"
        }
      ],
      "source": [
        "from sklearn.metrics import confusion_matrix\n",
        "# Usamos el modelo que tenga el mejor rendimiento según alguna métrica (precisión, F1, etc.)\n",
        "y_pred = gn_bayes.predict(X_test)\n",
        "\n",
        "# Calcula la matriz de confusión\n",
        "cm = confusion_matrix(y_test, y_pred)\n",
        "\n",
        "# Visualiza la matriz de confusión\n",
        "sns.heatmap(cm, annot=True, fmt=\"d\", cmap=\"Blues\", xticklabels=unique_labels, yticklabels=unique_labels)\n",
        "plt.ylabel('True label')\n",
        "plt.xlabel('Predicted label')\n",
        "plt.show()"
      ]
    },
    {
      "cell_type": "markdown",
      "metadata": {},
      "source": [
        "#### Las clases que mas se suelen confundir para GaussianNaiveBayes es \"virginica\" con \"versicolor\"."
      ]
    }
  ],
  "metadata": {
    "colab": {
      "provenance": []
    },
    "kernelspec": {
      "display_name": "Python 3.8.8 ('base')",
      "language": "python",
      "name": "python3"
    },
    "language_info": {
      "codemirror_mode": {
        "name": "ipython",
        "version": 3
      },
      "file_extension": ".py",
      "mimetype": "text/x-python",
      "name": "python",
      "nbconvert_exporter": "python",
      "pygments_lexer": "ipython3",
      "version": "3.8.8"
    },
    "vscode": {
      "interpreter": {
        "hash": "c41012f43e6205c134373b58af4c3c242eac16a3d1fcadd69d1dc9d7bf3c17da"
      }
    }
  },
  "nbformat": 4,
  "nbformat_minor": 0
}
